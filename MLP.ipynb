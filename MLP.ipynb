{
  "nbformat": 4,
  "nbformat_minor": 0,
  "metadata": {
    "colab": {
      "name": "MLP.ipynb",
      "version": "0.3.2",
      "provenance": [],
      "collapsed_sections": [],
      "toc_visible": true,
      "include_colab_link": true
    },
    "kernelspec": {
      "name": "python2",
      "display_name": "Python 2"
    }
  },
  "cells": [
    {
      "cell_type": "markdown",
      "metadata": {
        "id": "view-in-github",
        "colab_type": "text"
      },
      "source": [
        "[![Open In Colab](https://colab.research.google.com/assets/colab-badge.svg)](https://colab.research.google.com/github/dionatrafk/workload_prediction/blob/master/MLP.ipynb)"
      ]
    },
    {
      "metadata": {
        "id": "9w1edKILExYF",
        "colab_type": "text"
      },
      "cell_type": "markdown",
      "source": [
        "**`Artificial Neural Network (MLP-Multi Layer Perceptron)`**"
      ]
    },
    {
      "metadata": {
        "id": "pTylFTcpFHFz",
        "colab_type": "text"
      },
      "cell_type": "markdown",
      "source": [
        "**Import datasets from git**"
      ]
    },
    {
      "metadata": {
        "id": "U9mLxN6tD0dw",
        "colab_type": "code",
        "colab": {}
      },
      "cell_type": "code",
      "source": [
        "!git clone --recursive https://github.com/dionatrafk/workload_prediction"
      ],
      "execution_count": 0,
      "outputs": []
    },
    {
      "metadata": {
        "id": "NTuRs7yJFNGj",
        "colab_type": "text"
      },
      "cell_type": "markdown",
      "source": [
        "**Verify dataset file**"
      ]
    },
    {
      "metadata": {
        "id": "oUaiRYFTCXzk",
        "colab_type": "code",
        "colab": {}
      },
      "cell_type": "code",
      "source": [
        "#imports\n",
        "import pandas as pd\n",
        "import time\n",
        "import matplotlib.pyplot as plt\n",
        "import numpy as np\n",
        "from keras.models import Sequential\n",
        "from keras.layers import Dense, Dropout\n",
        "from sklearn.metrics import mean_squared_error\n",
        "import math\n",
        "import os, sys"
      ],
      "execution_count": 0,
      "outputs": []
    },
    {
      "metadata": {
        "id": "NYQ5hvD3CfqZ",
        "colab_type": "code",
        "colab": {}
      },
      "cell_type": "code",
      "source": [
        "def create_dataset(dataset, lookback=1):\n",
        "    dataX, dataY = [], [] # create 2 empty list\n",
        "\n",
        "    # go through the lenght of dataset, subtract the lookback and 1. 2 steps before the end of dataset, because we predict 1 step to the future\n",
        "    for i in range(len(dataset)-lookback-1):\n",
        "        a = dataset[i:(i+lookback),0]\n",
        "        dataX.append(a)\n",
        "        dataY.append(dataset[i+lookback,0]) # get the next value\n",
        "    return np.array(dataX), np.array(dataY)\n"
      ],
      "execution_count": 0,
      "outputs": []
    },
    {
      "metadata": {
        "id": "Zv_YXoplCm2m",
        "colab_type": "code",
        "colab": {}
      },
      "cell_type": "code",
      "source": [
        "filename = 'workload_prediction/trace60.csv'\n",
        "\n",
        "# good practice to set the seed state, starting point\n",
        "np.random.seed(7)\n",
        "\n",
        "# Data preparation\n",
        "dataset = pd.read_csv(filename, usecols=[1], header=None)\n",
        "dataset = dataset.values #convert to the array\n",
        "dataset = dataset.astype('float32') # convert to float\n",
        "\n",
        "# length of our data set\n",
        "training_size = int(len(dataset)*0.67)\n",
        "testing_size = len(dataset)-training_size\n",
        "\n",
        "# split the data set\n",
        "train, test = dataset[0:training_size,:], dataset[training_size:len(dataset),:]\n",
        "\n",
        "\n",
        "# one time step to the future\n",
        "lookback = 1\n",
        "trainX, trainY = create_dataset(train, lookback)\n",
        "testX, testY = create_dataset(test, lookback)"
      ],
      "execution_count": 0,
      "outputs": []
    },
    {
      "metadata": {
        "id": "MHN4H0rrCuP6",
        "colab_type": "code",
        "colab": {}
      },
      "cell_type": "code",
      "source": [
        "# create the model\n",
        "model_name = 'requests_MLP'\n",
        "model=Sequential()\n",
        "model.add(Dense(32, input_dim=lookback, activation='relu'))\n",
        "model.add(Dropout(0.2))\n",
        "model.add(Dense(16, activation='relu'))\n",
        "model.add(Dropout(0.2))\n",
        "model.add(Dense(1))\n"
      ],
      "execution_count": 0,
      "outputs": []
    },
    {
      "metadata": {
        "id": "LLA8-XoyC1VF",
        "colab_type": "code",
        "colab": {}
      },
      "cell_type": "code",
      "source": [
        "#Compilation and training\n",
        "start = time.time()\n",
        "model.compile(loss = 'mean_squared_error', optimizer = \"adam\") \n",
        "\n",
        "print \"Compilation Time : \", time.time() - start \n",
        "\n",
        "start = time.time()\n",
        "\n",
        "BATCH_SIZE = 140\n",
        "NB_EPOCHS = 150\n",
        "model.fit(trainX,trainY,epochs=NB_EPOCHS, batch_size=BATCH_SIZE, verbose=0) \n",
        "print \"Training time : \", time.time() - start\n"
      ],
      "execution_count": 0,
      "outputs": []
    },
    {
      "metadata": {
        "id": "tM148dvN7z1u",
        "colab_type": "code",
        "colab": {}
      },
      "cell_type": "code",
      "source": [
        "\n",
        "# Making predictions\n",
        "yhat = model.predict(trainX)\n",
        "y_train = trainY\n",
        "\n",
        "print 'Train samples: %d' %(training_size)+'\\n'+'Test samples: %d' %(testing_size)+'\\n'\n",
        "\n",
        "score = mean_squared_error(y_train, yhat)\n",
        "print ('Trainscore: %.2f MSE (%.2f RMSE)' %(score, math.sqrt(score)))\n",
        "\n",
        "yhat = model.predict(testX)\n",
        "y_test = testY\n",
        "\n",
        "score = mean_squared_error(y_test, yhat)\n",
        "print ('Testscore: %.2f MSE (%.2f RMSE)' %(score, math.sqrt(score)))\n",
        "\n",
        "#print samples\n",
        "print'current  predicted'\n",
        "for i in range(0, 10):\n",
        "    print  y_test[i], yhat[i]"
      ],
      "execution_count": 0,
      "outputs": []
    },
    {
      "metadata": {
        "id": "xVJRRiBbDvpH",
        "colab_type": "code",
        "colab": {}
      },
      "cell_type": "code",
      "source": [
        "plt.plot(yhat[-100:], label='Predicted')\n",
        "plt.plot(y_test[-100:], label='Current')\n",
        "plt.legend()\n",
        "plt.grid()\n",
        "\n",
        "plt.ylabel('Requests')\n",
        "plt.xlabel('Samples')\n",
        "plt.show()\n"
      ],
      "execution_count": 0,
      "outputs": []
    }
  ]
}
