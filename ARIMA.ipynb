{
  "nbformat": 4,
  "nbformat_minor": 0,
  "metadata": {
    "colab": {
      "name": "ARIMA.ipynb",
      "version": "0.3.2",
      "provenance": [],
      "collapsed_sections": [],
      "toc_visible": true,
      "include_colab_link": true
    },
    "kernelspec": {
      "name": "python2",
      "display_name": "Python 2"
    }
  },
  "cells": [
    {
      "cell_type": "markdown",
      "metadata": {
        "id": "view-in-github",
        "colab_type": "text"
      },
      "source": [
        "[View in Colaboratory](https://colab.research.google.com/github/dionatrafk/workload_prediction/blob/master/ARIMA.ipynb)"
      ]
    },
    {
      "metadata": {
        "id": "pWVwfpz5E8lB",
        "colab_type": "text"
      },
      "cell_type": "markdown",
      "source": [
        "**ARIMA**"
      ]
    },
    {
      "metadata": {
        "id": "nt40uuxKS0Yj",
        "colab_type": "code",
        "colab": {}
      },
      "cell_type": "code",
      "source": [
        "# Load trace files\n",
        "!git clone --recursive https://github.com/dionatrafk/workload_prediction"
      ],
      "execution_count": 0,
      "outputs": []
    },
    {
      "metadata": {
        "id": "M63R8bRom5UF",
        "colab_type": "code",
        "colab": {}
      },
      "cell_type": "code",
      "source": [
        "# Walk-forward validation\n",
        "from pandas import read_csv\n",
        "from pandas import datetime\n",
        "from pandas import tseries\n",
        "import matplotlib.pyplot as plt\n",
        "from statsmodels.tsa.arima_model import ARIMA\n",
        "from sklearn.metrics import mean_squared_error\n",
        "from math import sqrt\n",
        "import numpy as np\n",
        "import math\n",
        "\n",
        "\n",
        "def parser(x):\n",
        "\treturn datetime.strptime('190'+x, '%Y-%m')\n",
        "\n",
        "dataset = read_csv('workload_prediction/trace60.csv', header=0, parse_dates=[0], index_col=0, squeeze=True)\n",
        "\n",
        "\n",
        "# split into train and test sets\n",
        "X = dataset.values\n",
        "X = X.astype('float32')\n",
        "size = int(len(X) * 0.66)\n",
        "train, test = X[0:size], X[size:len(X)]\n",
        "series = [x for x in train]\n",
        "predictions = list()\n",
        "\n",
        "training_size = len(series)\n",
        "\n"
      ],
      "execution_count": 0,
      "outputs": []
    },
    {
      "metadata": {
        "id": "033IWH_dBD6I",
        "colab_type": "code",
        "colab": {}
      },
      "cell_type": "code",
      "source": [
        "# walk-forward validation\n",
        "print 'current, prediction'\n",
        "\n",
        "for t in range(len(test)):\n",
        "  model = ARIMA(series, order=(2,0,1))\n",
        "  model_fit = model.fit(disp=0)\n",
        "  output = model_fit.forecast()\n",
        "  yhat = output[0]\n",
        "  predictions.append(yhat)\n",
        "  current = test[t]\n",
        "  series.append(current)\n",
        "  print('%.2f, %.2f' % (current,yhat))\n",
        "\n",
        "# evaluate forecasts\n",
        "score = mean_squared_error(test, predictions)\n",
        "print ('Testscore: %.2f MSE (%.2f RMSE)' %(score, math.sqrt(score)))\n"
      ],
      "execution_count": 0,
      "outputs": []
    },
    {
      "metadata": {
        "id": "GS5qaFLnY2YT",
        "colab_type": "code",
        "colab": {}
      },
      "cell_type": "code",
      "source": [
        "\n",
        "# plot forecasts against actual outcomes\n",
        "\n",
        "plt.plot(test[-100:], label='Predicted')\n",
        "plt.plot(predictions[-100:], label='Current')\n",
        "plt.legend()\n",
        "plt.grid()\n",
        "\n",
        "plt.ylabel('Requests')\n",
        "plt.xlabel('Time')\n",
        "plt.show()"
      ],
      "execution_count": 0,
      "outputs": []
    }
  ]
}
